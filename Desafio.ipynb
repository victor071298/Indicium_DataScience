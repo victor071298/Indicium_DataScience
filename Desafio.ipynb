{
 "cells": [
  {
   "cell_type": "markdown",
   "id": "e95b1814",
   "metadata": {},
   "source": [
    "# Imports "
   ]
  },
  {
   "cell_type": "code",
   "execution_count": 3,
   "id": "f7aff999",
   "metadata": {},
   "outputs": [
    {
     "ename": "ModuleNotFoundError",
     "evalue": "No module named 'plotly'",
     "output_type": "error",
     "traceback": [
      "\u001b[1;31m---------------------------------------------------------------------------\u001b[0m",
      "\u001b[1;31mModuleNotFoundError\u001b[0m                       Traceback (most recent call last)",
      "\u001b[1;32mC:\\Users\\VICTOR~1\\AppData\\Local\\Temp/ipykernel_11564/1616665423.py\u001b[0m in \u001b[0;36m<module>\u001b[1;34m\u001b[0m\n\u001b[0;32m      3\u001b[0m \u001b[1;32mfrom\u001b[0m \u001b[0msklearn\u001b[0m \u001b[1;32mimport\u001b[0m \u001b[0mmetrics\u001b[0m\u001b[1;33m\u001b[0m\u001b[1;33m\u001b[0m\u001b[0m\n\u001b[0;32m      4\u001b[0m \u001b[1;32mfrom\u001b[0m \u001b[0mIPython\u001b[0m\u001b[1;33m.\u001b[0m\u001b[0mdisplay\u001b[0m \u001b[1;32mimport\u001b[0m \u001b[0mdisplay\u001b[0m\u001b[1;33m\u001b[0m\u001b[1;33m\u001b[0m\u001b[0m\n\u001b[1;32m----> 5\u001b[1;33m \u001b[1;32mimport\u001b[0m \u001b[0mplotly\u001b[0m\u001b[1;33m.\u001b[0m\u001b[0mexpress\u001b[0m \u001b[1;32mas\u001b[0m \u001b[0mpx\u001b[0m\u001b[1;33m\u001b[0m\u001b[1;33m\u001b[0m\u001b[0m\n\u001b[0m\u001b[0;32m      6\u001b[0m \u001b[1;32mfrom\u001b[0m \u001b[0mcollections\u001b[0m \u001b[1;32mimport\u001b[0m \u001b[0mCounter\u001b[0m\u001b[1;33m\u001b[0m\u001b[1;33m\u001b[0m\u001b[0m\n\u001b[0;32m      7\u001b[0m \u001b[1;32mfrom\u001b[0m \u001b[0mdataprep\u001b[0m\u001b[1;33m.\u001b[0m\u001b[0meda\u001b[0m \u001b[1;32mimport\u001b[0m \u001b[0mcreate_report\u001b[0m\u001b[1;33m\u001b[0m\u001b[1;33m\u001b[0m\u001b[0m\n",
      "\u001b[1;31mModuleNotFoundError\u001b[0m: No module named 'plotly'"
     ]
    }
   ],
   "source": [
    "import pandas as pd\n",
    "from sklearn.tree import DecisionTreeClassifier as DT\n",
    "from sklearn import metrics\n",
    "from IPython.display import display\n",
    "import plotly.express as px\n",
    "from collections import Counter\n",
    "from dataprep.eda import create_report\n",
    "from dataprep.datasets import load_dataset"
   ]
  },
  {
   "cell_type": "markdown",
   "id": "0a7fbd86",
   "metadata": {},
   "source": [
    "# Funções Auxiliares"
   ]
  },
  {
   "cell_type": "code",
   "execution_count": 1,
   "id": "5ea914e5",
   "metadata": {},
   "outputs": [],
   "source": [
    "#Função responsável por receber o caminho dos arquivos CSV desejados e retorná-los \n",
    "def busca_arquivos(caminho_csv):\n",
    "    return pd.read_csv(caminho_csv)"
   ]
  },
  {
   "cell_type": "code",
   "execution_count": 4,
   "id": "d7d26e1b",
   "metadata": {},
   "outputs": [],
   "source": [
    "#Função responsável por, dada uma entrada de database com colunas treino e colunas treinadas gera nossa árvore de decisão\n",
    "def gera_arvore(arvore,treino, treinada):\n",
    "    return arvore.fit(treino,treinada)"
   ]
  },
  {
   "cell_type": "markdown",
   "id": "dc46ee3b",
   "metadata": {},
   "source": [
    "# Busca e Armazenamento de Dados"
   ]
  },
  {
   "cell_type": "code",
   "execution_count": 2,
   "id": "9778a484",
   "metadata": {},
   "outputs": [
    {
     "ename": "NameError",
     "evalue": "name 'pd' is not defined",
     "output_type": "error",
     "traceback": [
      "\u001b[1;31m---------------------------------------------------------------------------\u001b[0m",
      "\u001b[1;31mNameError\u001b[0m                                 Traceback (most recent call last)",
      "\u001b[1;32mC:\\Users\\VICTOR~1\\AppData\\Local\\Temp/ipykernel_11564/3505468683.py\u001b[0m in \u001b[0;36m<module>\u001b[1;34m\u001b[0m\n\u001b[0;32m      1\u001b[0m \u001b[1;31m#Deve ser informado o Path em que os arquivos se encontram\u001b[0m\u001b[1;33m\u001b[0m\u001b[1;33m\u001b[0m\u001b[0m\n\u001b[1;32m----> 2\u001b[1;33m \u001b[0mconjunto_treino\u001b[0m \u001b[1;33m=\u001b[0m \u001b[0mbusca_arquivos\u001b[0m\u001b[1;33m(\u001b[0m\u001b[1;34m'desafio_manutencao_preditiva_treino.csv'\u001b[0m\u001b[1;33m)\u001b[0m\u001b[1;33m\u001b[0m\u001b[1;33m\u001b[0m\u001b[0m\n\u001b[0m\u001b[0;32m      3\u001b[0m \u001b[0mconjunto_teste\u001b[0m \u001b[1;33m=\u001b[0m \u001b[0mbusca_arquivos\u001b[0m\u001b[1;33m(\u001b[0m\u001b[1;34m'desafio_manutencao_preditiva_teste.csv'\u001b[0m\u001b[1;33m)\u001b[0m\u001b[1;33m\u001b[0m\u001b[1;33m\u001b[0m\u001b[0m\n",
      "\u001b[1;32mC:\\Users\\VICTOR~1\\AppData\\Local\\Temp/ipykernel_11564/1214759647.py\u001b[0m in \u001b[0;36mbusca_arquivos\u001b[1;34m(caminho_csv)\u001b[0m\n\u001b[0;32m      1\u001b[0m \u001b[1;32mdef\u001b[0m \u001b[0mbusca_arquivos\u001b[0m\u001b[1;33m(\u001b[0m\u001b[0mcaminho_csv\u001b[0m\u001b[1;33m)\u001b[0m\u001b[1;33m:\u001b[0m\u001b[1;33m\u001b[0m\u001b[1;33m\u001b[0m\u001b[0m\n\u001b[1;32m----> 2\u001b[1;33m     \u001b[1;32mreturn\u001b[0m \u001b[0mpd\u001b[0m\u001b[1;33m.\u001b[0m\u001b[0mread_csv\u001b[0m\u001b[1;33m(\u001b[0m\u001b[0mcaminho_csv\u001b[0m\u001b[1;33m)\u001b[0m\u001b[1;33m\u001b[0m\u001b[1;33m\u001b[0m\u001b[0m\n\u001b[0m",
      "\u001b[1;31mNameError\u001b[0m: name 'pd' is not defined"
     ]
    }
   ],
   "source": [
    "#Deve ser informado o Path em que os arquivos se encontram\n",
    "conjunto_treino = busca_arquivos('desafio_manutencao_preditiva_treino.csv')\n",
    "conjunto_teste = busca_arquivos('desafio_manutencao_preditiva_teste.csv')"
   ]
  },
  {
   "cell_type": "code",
   "execution_count": null,
   "id": "ba57c8e8",
   "metadata": {},
   "outputs": [],
   "source": [
    "#Estado da nossa base de dados\n",
    "display(conjunto_treino)\n",
    "display(conjunto_teste)"
   ]
  },
  {
   "cell_type": "markdown",
   "id": "994b28b6",
   "metadata": {},
   "source": [
    "# Tratamento de Dados"
   ]
  },
  {
   "cell_type": "markdown",
   "id": "c1ea2e6c",
   "metadata": {},
   "source": [
    "Utilizando a bilioteca dataprep do Python, será gerado um relatório de EDA da nossa base de dados. Esse relatório de encontra em anexo, mas basta executar o código abaixo para gerar ele novamente."
   ]
  },
  {
   "cell_type": "code",
   "execution_count": null,
   "id": "fd34b1d7",
   "metadata": {},
   "outputs": [],
   "source": [
    "create_report(conjunto_treino, title = 'Relatorio  de EDA').show_browser()"
   ]
  },
  {
   "cell_type": "markdown",
   "id": "10f6bbed",
   "metadata": {},
   "source": [
    "No relatório gerado, podemos ver que não há linhas ou colunas vazias, portanto não precisamos nos preocupar com isso em nossa base de dados, além disso, como 'udi' e 'product id' sao apenas indentificadores, eles serão removidos por não serem necessários no gráfico ou no processo de Machine Learning.\n",
    "Essa informação também pode ser observada no relatorio de EDA em Dataset Insights."
   ]
  },
  {
   "cell_type": "code",
   "execution_count": null,
   "id": "2a475a67",
   "metadata": {},
   "outputs": [],
   "source": [
    "conjunto_treino.drop('udi',inplace=True,axis=1)\n",
    "conjunto_teste.drop('udi',inplace=True,axis=1)\n",
    "conjunto_treino.drop('product_id',inplace=True,axis=1)\n",
    "conjunto_teste.drop('product_id',inplace=True,axis=1)"
   ]
  },
  {
   "cell_type": "code",
   "execution_count": null,
   "id": "09942dca",
   "metadata": {},
   "outputs": [],
   "source": [
    "#Aqui podemos ver o estado da nossa base de dados após a remoção\n",
    "display(conjunto_treino)\n",
    "display(conjunto_teste)"
   ]
  },
  {
   "cell_type": "markdown",
   "id": "e307792c",
   "metadata": {},
   "source": [
    "# Análise de Dados"
   ]
  },
  {
   "cell_type": "code",
   "execution_count": null,
   "id": "f84f01bd",
   "metadata": {},
   "outputs": [],
   "source": [
    "#Proporção dos tipos de falha do conjunto de treino\n",
    "display(conjunto_treino['failure_type'].value_counts(normalize=True).map('{:.1%}'.format))"
   ]
  },
  {
   "cell_type": "markdown",
   "id": "e315e2e7",
   "metadata": {},
   "source": [
    "Como random failures ocorrem independentemente dos parâmetros, eles serão desconsiderados para evitar que durante o processo de aprendizagem de máquina dados imprecisos sejam gerados, atrapalhando o processo de Machine Learning. Além disso, podemos ver que 0.2% de nossa database possui random failures, então ainda que removamos esse dado ainda teremos mais de 99%  de nossa base de dados para trabalharmos."
   ]
  },
  {
   "cell_type": "code",
   "execution_count": null,
   "id": "cc5d769d",
   "metadata": {},
   "outputs": [],
   "source": [
    "#Removendo 'Random Failure' de nossa base de dados\n",
    "conjunto_treino_sem_random = conjunto_treino.copy()\n",
    "conjunto_treino_sem_random = conjunto_treino_sem_random[conjunto_treino_sem_random.failure_type != 'Random Failures']"
   ]
  },
  {
   "cell_type": "code",
   "execution_count": null,
   "id": "b8ed6687",
   "metadata": {},
   "outputs": [],
   "source": [
    "#Estado do conjunto de treino sem random failures\n",
    "display(conjunto_treino_sem_random)\n",
    "display(conjunto_treino_sem_random['failure_type'].value_counts(normalize=True).map('{:.1%}'.format))"
   ]
  },
  {
   "cell_type": "markdown",
   "id": "a876b454",
   "metadata": {},
   "source": [
    "## Análise Gráfica"
   ]
  },
  {
   "cell_type": "markdown",
   "id": "fca04137",
   "metadata": {},
   "source": [
    " Agora faremos gráficos para tentar entender melhor como os erros se comportam em relação as caracteristicas das máquinas. Como queremos identificar as principais estatísticas descritivas, iremos gerar um gráfico com informações referentes a cada dado relevante da coluna. A coluna 'failure_type' será mostrada como parâmetro 'cor' nos gráficos abaixo para vermos como ela se comporta nas diferentes colunas da nossa base de dados."
   ]
  },
  {
   "cell_type": "code",
   "execution_count": null,
   "id": "bc2a6142",
   "metadata": {},
   "outputs": [],
   "source": [
    "#Gerando os gráficos\n",
    "for coluna in conjunto_treino_sem_random:\n",
    "    if coluna!= 'failure_type':\n",
    "        fig = px.histogram(conjunto_treino_sem_random,x=coluna,color='failure_type')\n",
    "        fig.show()"
   ]
  },
  {
   "cell_type": "markdown",
   "id": "ab61896f",
   "metadata": {},
   "source": [
    "Podemos alterar o gráfico, de maneira que visualizemos apenas uma informação, ou mais de uma ao mesmo tempo. Para poder analisar de maneira mais precisa, precisamos visualizar cada informação indivudual, comparando-a com o valor total para ter uma ideia dos padrões proporcionalmente."
   ]
  },
  {
   "cell_type": "markdown",
   "id": "dfa132dc",
   "metadata": {},
   "source": [
    "## Interpretação Gráfica"
   ]
  },
  {
   "cell_type": "markdown",
   "id": "d72c76da",
   "metadata": {},
   "source": [
    " Quanto ao gráfico sobre o tipo de máquina, podemos ver que quase todos os gráficos mantêm um padrao aproximado relativo as suas quantidades, com exceção de um, o erro de esforço excessivo (overstrain failure). Podemos ver que falhas desse tipo são mais comuns nas máquinas do tipo L, ou pelo menos, mais raras nas de tipo M.\n",
    "        \n",
    "Quanto ao gráfico sobre temperatura do ar, vemos que a maioria dos dados estão bem esparsos e sem padrões aparentes, entretanto, podemos observar que erros de dissipação de calor (heat dissipation failure) se concentram em uma faixa específica, entre 300.9k e 303.7k.\n",
    "        \n",
    "Quanto ao gráfico sobre temperatura de processo, vemos que o caso anterior se repete, a maioria dos erros estão esparsos com exceção do erro de dissipação de calor citado antereiormente, que se concentra entre 309.4k e 312.2k.\n",
    "        \n",
    "Quanto ao gráfico de velocidade rotacional, podemos notar que os casos de erro por falta de energia (power failure) não se encontram entre 1480k e 2259k, enquanto os erros de esforço excessivo e dissipação de calor so ocorrem na faixa de 1180k ate 1519k e 1240k ate 1379k respectivamente.\n",
    "        \n",
    "Quanto ao gráfico de torque podemos remover informação sobre todos os tipos de falha, sendo eles que entre 15 e 59 de torque não ocorrem falhas de energia, e as falhas de uso xcessivo, dissipação de calor e uso de ferramenta, ocorrem nas faixas de 46 a 68.9 , 41 a 67.9 e 16 a 47.9 respectivamente, valores bem distintos para cada erro.\n",
    "        \n",
    "Por fim, no gráfico de gasto de ferramenta por minuto, podemos ver que os erros de gasto de ferramenta e esforço excessivo ocorrem em uma faixa específica, sendo ela de 200 a 239 por minuto e 180 a 254 por minuto respectivamente."
   ]
  },
  {
   "cell_type": "markdown",
   "id": "ae6ef5c5",
   "metadata": {},
   "source": [
    "## Tipo de Problema"
   ]
  },
  {
   "cell_type": "markdown",
   "id": "202df066",
   "metadata": {},
   "source": [
    "Como queremos determinar um tipo de erro específico, o problema que estamos resolvendo é um problema de classificação. Isso ocorre pois temos diferentes tipos de falhas e queremos determinar dentre um conjunto possível qual a falha correta (incluindo a falta dela) para aquela máquina. "
   ]
  },
  {
   "cell_type": "markdown",
   "id": "b01a6e04",
   "metadata": {},
   "source": [
    "## Método Escolhido"
   ]
  },
  {
   "cell_type": "markdown",
   "id": "1011f527",
   "metadata": {},
   "source": [
    "Como a árvore de decisão é um método versátil, não linear e que nos permite ver o impacto de diferentes decisões adotadas, ela será utilizada neste problema.\n",
    "Esse método irá estimar os resultados do nosso conjunto de teste utilizando o conjunto de treino, mas, para testar sua eficácia e analisarmos os melhores dados na geração da árvore, será necessário subdividir nosso conjunto de treino, uma vez que com o conjunto de teste que nos foi fornecido não podemos fazer testes de acurácia para estimarmos a eficiência da árvore.\n",
    "Devido a isso, 2/3 do nosso conjunto de treino se manterá como de treino e gerará uma árvore exemplo, enquanto 1/3 será utilizado como conjunto de teste para podermos observar como nossa árvore está se comportando. Essa proporção foi escolhida pois é a mesma dos nossos dados inicias, onde temos de 1 até 6666 (2/3 de 10000) no conjunto de treino e de 6667 até 10000 (1/3 de 10000) no de teste.\n",
    "Com isso poderemos estimar quais as melhores escolhas durante a criação da árvore, além de ver se elas foram coerentes e, mais importante, observar quais outras escolhas podem impactar positivamente na nossa árvore de decisão."
   ]
  },
  {
   "cell_type": "code",
   "execution_count": null,
   "id": "5be47b02",
   "metadata": {},
   "outputs": [],
   "source": [
    "#Subdividindo o conjunto de treino em cerca de 2/3 e 1/3, como novos conjuntos temporários de treino e teste, temos:\n",
    "conjunto_treino_1 = conjunto_treino_sem_random.iloc[0:4444,:]\n",
    "    \n",
    "#Como o teste 2 é usado para estimar o valor real, utilizaremos a base de dados original com as random failures para ver a precisão real que temos\n",
    "conjunto_teste_2 = conjunto_treino.iloc[4445:,:]"
   ]
  },
  {
   "cell_type": "code",
   "execution_count": null,
   "id": "147f92d1",
   "metadata": {},
   "outputs": [],
   "source": [
    "#Visualizando os conjuntos gerados\n",
    "display(conjunto_treino_1)\n",
    "display(conjunto_teste_2)"
   ]
  },
  {
   "cell_type": "code",
   "execution_count": null,
   "id": "38d301ff",
   "metadata": {},
   "outputs": [],
   "source": [
    "#Utilizando o conjunto de treino 1 para gerar nossa árvore de decisão\n",
    "decision_tree_entropia = DT(criterion = 'entropy')"
   ]
  },
  {
   "cell_type": "markdown",
   "id": "8c0150d7",
   "metadata": {},
   "source": [
    "Agora, precisamos determinar que colunas serão usadas na construção de nossa árvore de decisão, além da coluna que será estimada pela árvore. Durante este passo resolvi remover a coluna type, uma vez que ela gerou uma pequena ambiguidade durante a interpretação dos dados. Além disso, a árvore de decisão trabalha com valores numéricos, então ainda que possamos adaptar type, essa coluna pode gerar alguns problemas."
   ]
  },
  {
   "cell_type": "code",
   "execution_count": null,
   "id": "271e5af6",
   "metadata": {},
   "outputs": [],
   "source": [
    "#Colunas utilizadas como estimadores\n",
    "colunas_treino = ['air_temperature_k', 'process_temperature_k','rotational_speed_rpm','torque_nm', 'tool_wear_min']   \n",
    "#Coluna estimada\n",
    "coluna_treinada = ['failure_type']"
   ]
  },
  {
   "cell_type": "markdown",
   "id": "a0f959ec",
   "metadata": {},
   "source": [
    "Agora, iremos separar o nosso novo conjunto de treino em 2, cada um com as colunas determinadas anteriormente como estimadores e estimada e utilizaremos esses dois conjuntos para gerar nossa árvore de decisão"
   ]
  },
  {
   "cell_type": "code",
   "execution_count": null,
   "id": "4fecce31",
   "metadata": {},
   "outputs": [],
   "source": [
    "#Separamos o conjunto de treino em 2, um com as colunas que serão usadas como entrada e outro com a coluna que será usada na saída\n",
    "conjunto_treino_1_a = conjunto_treino_1[colunas_treino]\n",
    "conjunto_treino_1_b = conjunto_treino_1[coluna_treinada]\n",
    "    \n",
    "#Gerando a árvore de decisão\n",
    "decision_tree = gera_arvore(decision_tree_entropia,conjunto_treino_1_a,conjunto_treino_1_b)"
   ]
  },
  {
   "cell_type": "markdown",
   "id": "b745ea55",
   "metadata": {},
   "source": [
    "## Testando a Acurácia"
   ]
  },
  {
   "cell_type": "markdown",
   "id": "cda6d584",
   "metadata": {},
   "source": [
    "Assim como feito anteriormente, iremos dividir o novo conjunto de teste em 2, onde o primeiro será utilizado para gerar um resultado estimado e o segundo será utilizado para calcular a acurácia comparando seu valor real com o estimado pela árvore."
   ]
  },
  {
   "cell_type": "code",
   "execution_count": null,
   "id": "3771bf55",
   "metadata": {},
   "outputs": [],
   "source": [
    "conjunto_teste_2_a = conjunto_teste_2[colunas_treino]\n",
    "conjunto_teste_2_b = conjunto_teste_2[coluna_treinada]\n",
    "\n",
    "#Agora veremos o valor obtido e sua acurácia\n",
    "predict = decision_tree.predict(conjunto_teste_2_a)\n",
    "print('Acuracia:',metrics.accuracy_score(conjunto_teste_2_b,predict))"
   ]
  },
  {
   "cell_type": "markdown",
   "id": "0f1cf846",
   "metadata": {},
   "source": [
    "Podemos ver que a acuracia possui valor entre 97 e 98 por cento após algumas execuções, configurando um bom valor. Sendo assim, esses criterios serao mantidos na arvore de Decisão final criada para gerar a previsão dos resultados do caso de teste original.\n"
   ]
  },
  {
   "cell_type": "markdown",
   "id": "bf0623e3",
   "metadata": {},
   "source": [
    "## Gerando o Arquivo de Saída"
   ]
  },
  {
   "cell_type": "markdown",
   "id": "bf8e111b",
   "metadata": {},
   "source": [
    "Agora, visto que o método utilizado anteriormente gerou uma boa árvore, iremos gerar uma nova árvore de decisão o conjunto de treino inicial para finalmente estimarmos a saída do conjunto de teste original."
   ]
  },
  {
   "cell_type": "code",
   "execution_count": null,
   "id": "9f41ad10",
   "metadata": {},
   "outputs": [],
   "source": [
    "conjunto_treino_sem_random_a = conjunto_treino_sem_random[colunas_treino]\n",
    "conjunto_treino_sem_random_b = conjunto_treino_sem_random[coluna_treinada]\n",
    "decision_tree_final = gera_arvore(decision_tree_entropia,conjunto_treino_sem_random_a , conjunto_treino_sem_random_b)\n",
    "conjunto_teste = conjunto_teste[colunas_treino]\n",
    "decision_tree_resposta  = decision_tree_final.predict(conjunto_teste)"
   ]
  },
  {
   "cell_type": "code",
   "execution_count": null,
   "id": "29f23860",
   "metadata": {},
   "outputs": [],
   "source": [
    "#Proporção de erros na saída estimada\n",
    "display(Counter(decision_tree_resposta))"
   ]
  },
  {
   "cell_type": "markdown",
   "id": "43ab5400",
   "metadata": {},
   "source": [
    "Por fim, geramos o arquivo de saída."
   ]
  },
  {
   "cell_type": "code",
   "execution_count": null,
   "id": "c0710ed9",
   "metadata": {},
   "outputs": [],
   "source": [
    "saida = pd.DataFrame(decision_tree_resposta,columns = ['predictedValues'])\n",
    "saida.to_csv('predicted.csv', index_label = 'rowNumber',sep='\\t')"
   ]
  }
 ],
 "metadata": {
  "kernelspec": {
   "display_name": "Python 3 (ipykernel)",
   "language": "python",
   "name": "python3"
  },
  "language_info": {
   "codemirror_mode": {
    "name": "ipython",
    "version": 3
   },
   "file_extension": ".py",
   "mimetype": "text/x-python",
   "name": "python",
   "nbconvert_exporter": "python",
   "pygments_lexer": "ipython3",
   "version": "3.9.7"
  }
 },
 "nbformat": 4,
 "nbformat_minor": 5
}
